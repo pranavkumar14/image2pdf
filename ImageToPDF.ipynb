{
  "nbformat": 4,
  "nbformat_minor": 0,
  "metadata": {
    "colab": {
      "name": "ImageToPDF.ipynb",
      "provenance": [],
      "collapsed_sections": [],
      "authorship_tag": "ABX9TyPNaPCMW4Y4mkVkt+eovjI5",
      "include_colab_link": true
    },
    "kernelspec": {
      "name": "python3",
      "display_name": "Python 3"
    },
    "language_info": {
      "name": "python"
    }
  },
  "cells": [
    {
      "cell_type": "markdown",
      "metadata": {
        "id": "view-in-github",
        "colab_type": "text"
      },
      "source": [
        "<a href=\"https://colab.research.google.com/github/pranavkumar14/image2pdf/blob/main/ImageToPDF.ipynb\" target=\"_parent\"><img src=\"https://colab.research.google.com/assets/colab-badge.svg\" alt=\"Open In Colab\"/></a>"
      ]
    },
    {
      "cell_type": "markdown",
      "source": [
        "#Image To PDF  \n",
        "In this project I have extracted the text from imaged book using **tesseract**.  \n",
        "* First I have a imaged PDF(PDF with no selectable text).   \n",
        "* Using *pdf2imge* I converted the PDF's pages to image(JPEG).   \n",
        "* Then using *tesseract* I scanned the image extracted the text.  \n",
        "* And using *fpdf* I converted the text into PDF.  \n",
        "\n",
        "Finally I have the **book**( text is selectable).  "
      ],
      "metadata": {
        "id": "n15pv9Zy_dR4"
      }
    },
    {
      "cell_type": "code",
      "source": [
        "# download all libraries\n",
        "!pip install pytesseract\n",
        "!sudo apt install tesseract-ocr\n",
        "!pip install pdf2image\n",
        "!pip install fpdf\n"
      ],
      "metadata": {
        "colab": {
          "base_uri": "https://localhost:8080/"
        },
        "id": "lzJRG5FL6UPu",
        "outputId": "1b30f397-2a94-4e94-c2b0-01c130d40a65"
      },
      "execution_count": 2,
      "outputs": [
        {
          "output_type": "stream",
          "name": "stdout",
          "text": [
            "Requirement already satisfied: pytesseract in /usr/local/lib/python3.7/dist-packages (0.3.8)\n",
            "Requirement already satisfied: Pillow in /usr/local/lib/python3.7/dist-packages (from pytesseract) (7.1.2)\n",
            "Reading package lists... Done\n",
            "Building dependency tree       \n",
            "Reading state information... Done\n",
            "tesseract-ocr is already the newest version (4.00~git2288-10f4998a-2).\n",
            "0 upgraded, 0 newly installed, 0 to remove and 37 not upgraded.\n",
            "Requirement already satisfied: pdf2image in /usr/local/lib/python3.7/dist-packages (1.16.0)\n",
            "Requirement already satisfied: pillow in /usr/local/lib/python3.7/dist-packages (from pdf2image) (7.1.2)\n",
            "Requirement already satisfied: fpdf in /usr/local/lib/python3.7/dist-packages (1.7.2)\n"
          ]
        }
      ]
    },
    {
      "cell_type": "code",
      "source": [
        "# This was needed for pdf2image as it is a wrapper around poppler\n",
        "# https://stackoverflow.com/a/53539577\n",
        "!sudo apt-get install poppler-utils"
      ],
      "metadata": {
        "colab": {
          "base_uri": "https://localhost:8080/"
        },
        "id": "bLOL97KUtcFq",
        "outputId": "49c6095c-1a5e-4f03-f332-3412b5cb67e9"
      },
      "execution_count": 3,
      "outputs": [
        {
          "output_type": "stream",
          "name": "stdout",
          "text": [
            "Reading package lists... Done\n",
            "Building dependency tree       \n",
            "Reading state information... Done\n",
            "poppler-utils is already the newest version (0.62.0-2ubuntu2.12).\n",
            "0 upgraded, 0 newly installed, 0 to remove and 37 not upgraded.\n"
          ]
        }
      ]
    },
    {
      "cell_type": "code",
      "source": [
        "import matplotlib.pyplot as plt\n",
        "import pytesseract\n",
        "import numpy as np\n",
        "from PIL import Image\n",
        "from pdf2image import convert_from_path\n",
        "from fpdf import FPDF\n"
      ],
      "metadata": {
        "id": "dxuNo_3F3dxa"
      },
      "execution_count": 4,
      "outputs": []
    },
    {
      "cell_type": "code",
      "source": [
        "pytesseract.pytesseract.tesseract_cmd = ( r'/usr/bin/tesseract') # it was showing error without this line\n",
        "\n",
        "# This line convert imaged pdf to images\n",
        "pages = convert_from_path('/content/ImgReader/Technical Analysis of the Financial Markets.pdf',100) # (THE FILE PATH, QUALITY OF IMAGE(400 if you have good RAM))\n",
        "\n",
        "pdf = FPDF('P','mm','A4') # create an empty PDF\n",
        "pdf.set_font(\"Arial\", size = 11)\n",
        "\n",
        "\n",
        "for page in pages:\n",
        "  page.save('/content/ImgReader/book_img/out.jpg','JPEG')\n",
        "  img = '/content/ImgReader/book_img/out.jpg'\n",
        "\n",
        "  text= pytesseract.image_to_string(Image.open(img)) # extract text from image\n",
        "  text = text.encode('latin-1', 'replace').decode('latin-1')\n",
        "  pdf.add_page()\n",
        "  pdf.multi_cell(0, 5, text,0,align='L') # add extracted text to new PDF\n",
        "  \n",
        "pdf.output(\"/content/ImgReader/book.pdf\") # Save the new PDF"
      ],
      "metadata": {
        "colab": {
          "base_uri": "https://localhost:8080/",
          "height": 35
        },
        "id": "3Di6_A3TZMdS",
        "outputId": "956df242-eecd-439a-c59b-bce8744385e8"
      },
      "execution_count": 13,
      "outputs": [
        {
          "output_type": "execute_result",
          "data": {
            "application/vnd.google.colaboratory.intrinsic+json": {
              "type": "string"
            },
            "text/plain": [
              "''"
            ]
          },
          "metadata": {},
          "execution_count": 13
        }
      ]
    }
  ]
}